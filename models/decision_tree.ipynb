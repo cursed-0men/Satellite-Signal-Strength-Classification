{
 "cells": [
  {
   "cell_type": "markdown",
   "metadata": {},
   "source": [
    "# Decision Tree"
   ]
  },
  {
   "cell_type": "code",
   "execution_count": 1,
   "metadata": {},
   "outputs": [],
   "source": [
    "import pandas as pd\n",
    "import numpy as np\n",
    "from collections import Counter\n",
    "import matplotlib.pyplot as plt\n",
    "import seaborn as sns"
   ]
  },
  {
   "cell_type": "code",
   "execution_count": 2,
   "metadata": {},
   "outputs": [],
   "source": [
    "np.random.seed(42)"
   ]
  },
  {
   "cell_type": "code",
   "execution_count": 5,
   "metadata": {},
   "outputs": [],
   "source": [
    "class Node:\n",
    "    def __init__(self, feature = None, threshold = None, left = None, right = None, value = None):\n",
    "        self.feature = feature    \n",
    "        self.threshold = threshold\n",
    "        self.left = left\n",
    "        self.right = right\n",
    "        self.value = value"
   ]
  },
  {
   "cell_type": "code",
   "execution_count": 6,
   "metadata": {},
   "outputs": [],
   "source": [
    "# decision tree...\n",
    "class decisionTree:\n",
    "    def __init__(self, max_depth = 5, min_samples_split = 2):\n",
    "        self.max_depth = max_depth\n",
    "        self.min_samples_split = min_samples_split\n",
    "        self.root = None\n",
    "\n",
    "    def fit(self, X, y):\n",
    "        self.root = self._grow_tree(X, y, depth=0)\n",
    "\n",
    "    def _gini_impurity(self, y):\n",
    "        counts = Counter(y)\n",
    "        impurity = 1    # the worst...no info gain\n",
    "        for count in counts.values():\n",
    "            prob = count / len(y)\n",
    "            impurity -= prob ** 2\n",
    "        return impurity\n",
    "    \n",
    "    def _information_gain(self, X, y, feature, threshold):\n",
    "        parent_gini = self._gini_impurity(y)\n",
    "\n",
    "        # Split data\n",
    "        left_idx = X[:, feature] <= threshold\n",
    "        right_idx = X[:, feature] > threshold\n",
    "\n",
    "        if sum(left_idx) == 0 or sum(right_idx) == 0:\n",
    "            return 0\n",
    "\n",
    "        n = len(y)\n",
    "        n_left, n_right = sum(left_idx), sum(right_idx)\n",
    "        gini_left = self._gini_impurity(y[left_idx])\n",
    "        gini_right = self._gini_impurity(y[right_idx])\n",
    "\n",
    "        weighted_gini = (n_left / n) * gini_left + (n_right / n) * gini_right\n",
    "        return parent_gini - weighted_gini\n",
    "    \n",
    "    def _best_split(self, X, y):\n",
    "        \"\"\"Find the best feature and threshold to split on\"\"\"\n",
    "        best_gain = -1\n",
    "        best_feature, best_threshold = None, None\n",
    "        n_features = X.shape[1]\n",
    "\n",
    "        for feature in range(n_features):\n",
    "            thresholds = np.unique(X[:, feature])[:100]  # 100 for efficiency\n",
    "            for threshold in thresholds:\n",
    "                gain = self._information_gain(X, y, feature, threshold)\n",
    "                if gain > best_gain:\n",
    "                    best_gain = gain\n",
    "                    best_feature = feature\n",
    "                    best_threshold = threshold\n",
    "\n",
    "        return best_feature, best_threshold\n",
    "    \n",
    "    def _grow_tree(self, X, y, depth):\n",
    "        n_samples = len(y)\n",
    "        n_classes = len(np.unique(y))\n",
    "\n",
    "        # Stopping criteria...\n",
    "        if (depth >= self.max_depth or\n",
    "            n_samples < self.min_samples_split or\n",
    "            n_classes == 1):\n",
    "            return Node(value=Counter(y).most_common(1)[0][0])\n",
    "\n",
    "        # Finding best split\n",
    "        feature, threshold = self._best_split(X, y)\n",
    "        if feature is None:  # No valid split\n",
    "            return Node(value=Counter(y).most_common(1)[0][0])\n",
    "\n",
    "        # Splitting the data\n",
    "        left_idx = X[:, feature] <= threshold\n",
    "        right_idx = X[:, feature] > threshold\n",
    "\n",
    "        # Grow children\n",
    "        left = self._grow_tree(X[left_idx], y[left_idx], depth + 1)\n",
    "        right = self._grow_tree(X[right_idx], y[right_idx], depth + 1)\n",
    "\n",
    "        return Node(feature, threshold, left, right)\n",
    "\n",
    "    def predict(self, X):\n",
    "        return np.array([self._traverse_tree(x, self.root) for x in X])\n",
    "\n",
    "    def _traverse_tree(self, x, node):\n",
    "        if node.value is not None:\n",
    "            return node.value\n",
    "        if x[node.feature] <= node.threshold:\n",
    "            return self._traverse_tree(x, node.left)\n",
    "        return self._traverse_tree(x, node.right)"
   ]
  },
  {
   "cell_type": "code",
   "execution_count": 7,
   "metadata": {},
   "outputs": [
    {
     "data": {
      "application/vnd.microsoft.datawrangler.viewer.v0+json": {
       "columns": [
        {
         "name": "index",
         "rawType": "int64",
         "type": "integer"
        },
        {
         "name": "orbit_type",
         "rawType": "object",
         "type": "string"
        },
        {
         "name": "distance_m",
         "rawType": "float64",
         "type": "float"
        },
        {
         "name": "frequency_hz",
         "rawType": "float64",
         "type": "float"
        },
        {
         "name": "transmit_power_dbw",
         "rawType": "float64",
         "type": "float"
        },
        {
         "name": "transmit_antenna_diameter_m",
         "rawType": "float64",
         "type": "float"
        },
        {
         "name": "receive_antenna_diameter_m",
         "rawType": "float64",
         "type": "float"
        },
        {
         "name": "rain_rate_mmhr",
         "rawType": "float64",
         "type": "float"
        },
        {
         "name": "atmospheric_loss_db",
         "rawType": "float64",
         "type": "float"
        },
        {
         "name": "pointing_error_deg",
         "rawType": "float64",
         "type": "float"
        },
        {
         "name": "bandwidth_hz",
         "rawType": "float64",
         "type": "float"
        },
        {
         "name": "system_noise_temp_k",
         "rawType": "float64",
         "type": "float"
        },
        {
         "name": "transmit_antenna_gain_db",
         "rawType": "float64",
         "type": "float"
        },
        {
         "name": "receive_antenna_gain_db",
         "rawType": "float64",
         "type": "float"
        },
        {
         "name": "fspl_db",
         "rawType": "float64",
         "type": "float"
        },
        {
         "name": "rain_attenuation_db",
         "rawType": "float64",
         "type": "float"
        },
        {
         "name": "pointing_loss_db",
         "rawType": "float64",
         "type": "float"
        },
        {
         "name": "transmit_power_dbm",
         "rawType": "float64",
         "type": "float"
        },
        {
         "name": "received_power_dbm",
         "rawType": "float64",
         "type": "float"
        },
        {
         "name": "noise_power_dbm",
         "rawType": "float64",
         "type": "float"
        },
        {
         "name": "cn_ratio_db",
         "rawType": "float64",
         "type": "float"
        },
        {
         "name": "signal_quality",
         "rawType": "object",
         "type": "string"
        }
       ],
       "ref": "3506bcb4-fa62-4687-a377-1edd54b1347f",
       "rows": [
        [
         "0",
         "GEO",
         "35657549.94652469",
         "1626956777.8869576",
         "24.59996621979941",
         "1.097824082408833",
         "2.302199048417507",
         "8.523262926845067",
         "1.9519476085442529",
         "0.0579162477316365",
         "23764732.347608224",
         "238.61467647286096",
         "23.22026024270653",
         "29.652462575205305",
         "187.71232248063853",
         "0.046652891085682",
         "0.0012805049509605",
         "54.599966219799406",
         "-82.2395144475082",
         "-101.0649083391384",
         "18.825393891630213",
         "Good"
        ],
        [
         "1",
         "MEO",
         "11530457.842901029",
         "27322457875.6503",
         "13.690239911974231",
         "0.689635550324116",
         "2.6789750627600557",
         "0.7848468569495993",
         "1.817429123909746",
         "0.0",
         "25743725.07624077",
         "275.4878165579438",
         "43.68487298514589",
         "55.47185358448891",
         "202.4090985329067",
         "2.7814690900390726",
         "0.0",
         "43.69023991197423",
         "-64.16103026524652",
         "-100.09347127810304",
         "35.932441012856515",
         "Good"
        ],
        [
         "2",
         "LEO",
         "854791.729110198",
         "6435908247.909301",
         "16.93279388739772",
         "0.7527184499444319",
         "1.5505856635233026",
         "14.636985653440204",
         "1.377592374008337",
         "0.0806217847248197",
         "43980662.449065804",
         "113.55369434257896",
         "31.88693296815663",
         "38.16419702894029",
         "167.25117529336342",
         "0.163627812024505",
         "0.0176140282662817",
         "46.93279388739772",
         "-51.8260856231679",
         "-101.61657878988149",
         "49.79049316671359",
         "Good"
        ],
        [
         "3",
         "LEO",
         "679337.8781034595",
         "27542695906.593315",
         "23.265612737156363",
         "0.8613422563618436",
         "1.0807825755182006",
         "9.26468989554432",
         "1.7330316447402756",
         "1.2073100941957795",
         "2521968.4318199726",
         "231.92349355201696",
         "45.68572888044858",
         "47.65698049356175",
         "177.88361773744117",
         "1.5113146204132706",
         "35.14551269421848",
         "53.26561273715636",
         "-69.66515458564652",
         "-110.9303652317286",
         "41.26521064608207",
         "Good"
        ],
        [
         "4",
         "GEO",
         "35867355.20231315",
         "14992205580.118477",
         "19.6417868904896",
         "0.9073066687298968",
         "1.160885750759746",
         "12.557483147557695",
         "1.412741588623026",
         "0.0",
         "23884760.347834643",
         "145.2004474514066",
         "40.854477499305034",
         "42.995185049986105",
         "207.05306983713427",
         "45.04037085005132",
         "0.0",
         "49.6417868904896",
         "-120.01473283602786",
         "-103.20032070838504",
         "-16.81441212764281",
         "Poor"
        ]
       ],
       "shape": {
        "columns": 21,
        "rows": 5
       }
      },
      "text/html": [
       "<div>\n",
       "<style scoped>\n",
       "    .dataframe tbody tr th:only-of-type {\n",
       "        vertical-align: middle;\n",
       "    }\n",
       "\n",
       "    .dataframe tbody tr th {\n",
       "        vertical-align: top;\n",
       "    }\n",
       "\n",
       "    .dataframe thead th {\n",
       "        text-align: right;\n",
       "    }\n",
       "</style>\n",
       "<table border=\"1\" class=\"dataframe\">\n",
       "  <thead>\n",
       "    <tr style=\"text-align: right;\">\n",
       "      <th></th>\n",
       "      <th>orbit_type</th>\n",
       "      <th>distance_m</th>\n",
       "      <th>frequency_hz</th>\n",
       "      <th>transmit_power_dbw</th>\n",
       "      <th>transmit_antenna_diameter_m</th>\n",
       "      <th>receive_antenna_diameter_m</th>\n",
       "      <th>rain_rate_mmhr</th>\n",
       "      <th>atmospheric_loss_db</th>\n",
       "      <th>pointing_error_deg</th>\n",
       "      <th>bandwidth_hz</th>\n",
       "      <th>...</th>\n",
       "      <th>transmit_antenna_gain_db</th>\n",
       "      <th>receive_antenna_gain_db</th>\n",
       "      <th>fspl_db</th>\n",
       "      <th>rain_attenuation_db</th>\n",
       "      <th>pointing_loss_db</th>\n",
       "      <th>transmit_power_dbm</th>\n",
       "      <th>received_power_dbm</th>\n",
       "      <th>noise_power_dbm</th>\n",
       "      <th>cn_ratio_db</th>\n",
       "      <th>signal_quality</th>\n",
       "    </tr>\n",
       "  </thead>\n",
       "  <tbody>\n",
       "    <tr>\n",
       "      <th>0</th>\n",
       "      <td>GEO</td>\n",
       "      <td>3.565755e+07</td>\n",
       "      <td>1.626957e+09</td>\n",
       "      <td>24.599966</td>\n",
       "      <td>1.097824</td>\n",
       "      <td>2.302199</td>\n",
       "      <td>8.523263</td>\n",
       "      <td>1.951948</td>\n",
       "      <td>0.057916</td>\n",
       "      <td>2.376473e+07</td>\n",
       "      <td>...</td>\n",
       "      <td>23.220260</td>\n",
       "      <td>29.652463</td>\n",
       "      <td>187.712322</td>\n",
       "      <td>0.046653</td>\n",
       "      <td>0.001281</td>\n",
       "      <td>54.599966</td>\n",
       "      <td>-82.239514</td>\n",
       "      <td>-101.064908</td>\n",
       "      <td>18.825394</td>\n",
       "      <td>Good</td>\n",
       "    </tr>\n",
       "    <tr>\n",
       "      <th>1</th>\n",
       "      <td>MEO</td>\n",
       "      <td>1.153046e+07</td>\n",
       "      <td>2.732246e+10</td>\n",
       "      <td>13.690240</td>\n",
       "      <td>0.689636</td>\n",
       "      <td>2.678975</td>\n",
       "      <td>0.784847</td>\n",
       "      <td>1.817429</td>\n",
       "      <td>0.000000</td>\n",
       "      <td>2.574373e+07</td>\n",
       "      <td>...</td>\n",
       "      <td>43.684873</td>\n",
       "      <td>55.471854</td>\n",
       "      <td>202.409099</td>\n",
       "      <td>2.781469</td>\n",
       "      <td>0.000000</td>\n",
       "      <td>43.690240</td>\n",
       "      <td>-64.161030</td>\n",
       "      <td>-100.093471</td>\n",
       "      <td>35.932441</td>\n",
       "      <td>Good</td>\n",
       "    </tr>\n",
       "    <tr>\n",
       "      <th>2</th>\n",
       "      <td>LEO</td>\n",
       "      <td>8.547917e+05</td>\n",
       "      <td>6.435908e+09</td>\n",
       "      <td>16.932794</td>\n",
       "      <td>0.752718</td>\n",
       "      <td>1.550586</td>\n",
       "      <td>14.636986</td>\n",
       "      <td>1.377592</td>\n",
       "      <td>0.080622</td>\n",
       "      <td>4.398066e+07</td>\n",
       "      <td>...</td>\n",
       "      <td>31.886933</td>\n",
       "      <td>38.164197</td>\n",
       "      <td>167.251175</td>\n",
       "      <td>0.163628</td>\n",
       "      <td>0.017614</td>\n",
       "      <td>46.932794</td>\n",
       "      <td>-51.826086</td>\n",
       "      <td>-101.616579</td>\n",
       "      <td>49.790493</td>\n",
       "      <td>Good</td>\n",
       "    </tr>\n",
       "    <tr>\n",
       "      <th>3</th>\n",
       "      <td>LEO</td>\n",
       "      <td>6.793379e+05</td>\n",
       "      <td>2.754270e+10</td>\n",
       "      <td>23.265613</td>\n",
       "      <td>0.861342</td>\n",
       "      <td>1.080783</td>\n",
       "      <td>9.264690</td>\n",
       "      <td>1.733032</td>\n",
       "      <td>1.207310</td>\n",
       "      <td>2.521968e+06</td>\n",
       "      <td>...</td>\n",
       "      <td>45.685729</td>\n",
       "      <td>47.656980</td>\n",
       "      <td>177.883618</td>\n",
       "      <td>1.511315</td>\n",
       "      <td>35.145513</td>\n",
       "      <td>53.265613</td>\n",
       "      <td>-69.665155</td>\n",
       "      <td>-110.930365</td>\n",
       "      <td>41.265211</td>\n",
       "      <td>Good</td>\n",
       "    </tr>\n",
       "    <tr>\n",
       "      <th>4</th>\n",
       "      <td>GEO</td>\n",
       "      <td>3.586736e+07</td>\n",
       "      <td>1.499221e+10</td>\n",
       "      <td>19.641787</td>\n",
       "      <td>0.907307</td>\n",
       "      <td>1.160886</td>\n",
       "      <td>12.557483</td>\n",
       "      <td>1.412742</td>\n",
       "      <td>0.000000</td>\n",
       "      <td>2.388476e+07</td>\n",
       "      <td>...</td>\n",
       "      <td>40.854477</td>\n",
       "      <td>42.995185</td>\n",
       "      <td>207.053070</td>\n",
       "      <td>45.040371</td>\n",
       "      <td>0.000000</td>\n",
       "      <td>49.641787</td>\n",
       "      <td>-120.014733</td>\n",
       "      <td>-103.200321</td>\n",
       "      <td>-16.814412</td>\n",
       "      <td>Poor</td>\n",
       "    </tr>\n",
       "  </tbody>\n",
       "</table>\n",
       "<p>5 rows × 21 columns</p>\n",
       "</div>"
      ],
      "text/plain": [
       "  orbit_type    distance_m  frequency_hz  transmit_power_dbw  \\\n",
       "0        GEO  3.565755e+07  1.626957e+09           24.599966   \n",
       "1        MEO  1.153046e+07  2.732246e+10           13.690240   \n",
       "2        LEO  8.547917e+05  6.435908e+09           16.932794   \n",
       "3        LEO  6.793379e+05  2.754270e+10           23.265613   \n",
       "4        GEO  3.586736e+07  1.499221e+10           19.641787   \n",
       "\n",
       "   transmit_antenna_diameter_m  receive_antenna_diameter_m  rain_rate_mmhr  \\\n",
       "0                     1.097824                    2.302199        8.523263   \n",
       "1                     0.689636                    2.678975        0.784847   \n",
       "2                     0.752718                    1.550586       14.636986   \n",
       "3                     0.861342                    1.080783        9.264690   \n",
       "4                     0.907307                    1.160886       12.557483   \n",
       "\n",
       "   atmospheric_loss_db  pointing_error_deg  bandwidth_hz  ...  \\\n",
       "0             1.951948            0.057916  2.376473e+07  ...   \n",
       "1             1.817429            0.000000  2.574373e+07  ...   \n",
       "2             1.377592            0.080622  4.398066e+07  ...   \n",
       "3             1.733032            1.207310  2.521968e+06  ...   \n",
       "4             1.412742            0.000000  2.388476e+07  ...   \n",
       "\n",
       "   transmit_antenna_gain_db  receive_antenna_gain_db     fspl_db  \\\n",
       "0                 23.220260                29.652463  187.712322   \n",
       "1                 43.684873                55.471854  202.409099   \n",
       "2                 31.886933                38.164197  167.251175   \n",
       "3                 45.685729                47.656980  177.883618   \n",
       "4                 40.854477                42.995185  207.053070   \n",
       "\n",
       "   rain_attenuation_db  pointing_loss_db  transmit_power_dbm  \\\n",
       "0             0.046653          0.001281           54.599966   \n",
       "1             2.781469          0.000000           43.690240   \n",
       "2             0.163628          0.017614           46.932794   \n",
       "3             1.511315         35.145513           53.265613   \n",
       "4            45.040371          0.000000           49.641787   \n",
       "\n",
       "   received_power_dbm  noise_power_dbm  cn_ratio_db  signal_quality  \n",
       "0          -82.239514      -101.064908    18.825394            Good  \n",
       "1          -64.161030      -100.093471    35.932441            Good  \n",
       "2          -51.826086      -101.616579    49.790493            Good  \n",
       "3          -69.665155      -110.930365    41.265211            Good  \n",
       "4         -120.014733      -103.200321   -16.814412            Poor  \n",
       "\n",
       "[5 rows x 21 columns]"
      ]
     },
     "execution_count": 7,
     "metadata": {},
     "output_type": "execute_result"
    }
   ],
   "source": [
    "# loading the dataset\n",
    "df = pd.read_csv('../dataset/satellite_signal_dataset.csv')\n",
    "df.head()"
   ]
  },
  {
   "cell_type": "code",
   "execution_count": 8,
   "metadata": {},
   "outputs": [],
   "source": [
    "# Encode categorical 'orbit_type'\n",
    "df = pd.get_dummies(df, columns=['orbit_type'], prefix='orbit')"
   ]
  },
  {
   "cell_type": "code",
   "execution_count": 9,
   "metadata": {},
   "outputs": [],
   "source": [
    "# Convert boolean columns to integer\n",
    "for col in ['orbit_GEO', 'orbit_LEO', 'orbit_MEO']:\n",
    "    if col in df.columns:\n",
    "        df[col] = df[col].astype(int)"
   ]
  },
  {
   "cell_type": "code",
   "execution_count": 10,
   "metadata": {},
   "outputs": [],
   "source": [
    "# Defining features and target\n",
    "features = [col for col in df.columns if col != 'signal_quality']\n",
    "X = df[features].values\n",
    "y = df['signal_quality'].map({'Good': 2, 'Moderate': 1, 'Poor': 0}).values"
   ]
  },
  {
   "cell_type": "code",
   "execution_count": 11,
   "metadata": {},
   "outputs": [],
   "source": [
    "# Standardizing features...\n",
    "X_mean = np.mean(X, axis=0)\n",
    "X_std = np.std(X, axis=0)\n",
    "X_std[X_std == 0] = 1  # Avoid division by zero\n",
    "X = (X - X_mean) / X_std"
   ]
  },
  {
   "cell_type": "code",
   "execution_count": 12,
   "metadata": {},
   "outputs": [],
   "source": [
    "# train-test split\n",
    "n_samples = X.shape[0]\n",
    "indices = np.random.permutation(n_samples)\n",
    "train_size = int(0.8 * n_samples)   # 80% training data\n",
    "train_idx, test_idx = indices[:train_size], indices[train_size:]\n",
    "X_train, X_test = X[train_idx], X[test_idx]\n",
    "y_train, y_test = y[train_idx], y[test_idx]"
   ]
  },
  {
   "cell_type": "code",
   "execution_count": 13,
   "metadata": {},
   "outputs": [],
   "source": [
    "# applying decision tree...\n",
    "model =decisionTree(max_depth=5, min_samples_split=2)\n",
    "model.fit(X_train, y_train)"
   ]
  },
  {
   "cell_type": "code",
   "execution_count": 14,
   "metadata": {},
   "outputs": [],
   "source": [
    "# prediction on test set\n",
    "y_pred = model.predict(X_test)"
   ]
  },
  {
   "cell_type": "code",
   "execution_count": 15,
   "metadata": {},
   "outputs": [
    {
     "name": "stdout",
     "output_type": "stream",
     "text": [
      "Test Accuracy: 0.8658\n"
     ]
    }
   ],
   "source": [
    "# accuracy\n",
    "accuracy = np.mean(y_pred == y_test)\n",
    "print(f\"Test Accuracy: {accuracy:.4f}\")"
   ]
  },
  {
   "cell_type": "code",
   "execution_count": 19,
   "metadata": {},
   "outputs": [
    {
     "data": {
      "image/png": "[encoded data removed]",
      "text/plain": [
       "<Figure size 600x400 with 2 Axes>"
      ]
     },
     "metadata": {},
     "output_type": "display_data"
    }
   ],
   "source": [
    "# confusion matrix\n",
    "num_classes = 3\n",
    "conf_matrix = np.zeros((num_classes, num_classes))\n",
    "for true, pred in zip(y_test, y_pred):\n",
    "    conf_matrix[int(true), int(pred)] += 1\n",
    "\n",
    "# Custom label order: Good=2, Moderate=1, Poor=0\n",
    "labels = [\"Poor\", \"Moderate\", \"Good\"] \n",
    "\n",
    "# Plot\n",
    "plt.figure(figsize=(6, 4))\n",
    "sns.heatmap(conf_matrix, annot=True, fmt=\".0f\", cmap=\"crest\",\n",
    "            xticklabels=labels, yticklabels=labels)\n",
    "\n",
    "plt.xlabel(\"Predicted Labels\")\n",
    "plt.ylabel(\"True Labels\")\n",
    "plt.title(\"Confusion Matrix (Custom Label Order)\")\n",
    "plt.show()"
   ]
  },
  {
   "cell_type": "code",
   "execution_count": 20,
   "metadata": {},
   "outputs": [
    {
     "name": "stdout",
     "output_type": "stream",
     "text": [
      "\n",
      "Predictions saved to 'decision_tree_predictions.csv'\n"
     ]
    }
   ],
   "source": [
    "# Create a mapping from numerical labels back to original labels\n",
    "label_mapping = {2: 'Good', 1: 'Moderate', 0: 'Poor'}\n",
    "y_test_labels = [label_mapping[true] for true in y_test]\n",
    "y_pred_labels = [label_mapping[pred] for pred in y_pred]\n",
    "\n",
    "# Save predictions to CSV\n",
    "results = pd.DataFrame({\n",
    "    'True_Label': y_test_labels,\n",
    "    'Predicted_Label': y_pred_labels\n",
    "})\n",
    "results.to_csv('../predictions/decision_tree_predictions.csv', index=False)\n",
    "print(\"\\nPredictions saved to 'decision_tree_predictions.csv'\")"
   ]
  }
 ],
 "metadata": {
  "kernelspec": {
   "display_name": "Python 3",
   "language": "python",
   "name": "python3"
  },
  "language_info": {
   "codemirror_mode": {
    "name": "ipython",
    "version": 3
   },
   "file_extension": ".py",
   "mimetype": "text/x-python",
   "name": "python",
   "nbconvert_exporter": "python",
   "pygments_lexer": "ipython3",
   "version": "3.9.6"
  }
 },
 "nbformat": 4,
 "nbformat_minor": 2
}
